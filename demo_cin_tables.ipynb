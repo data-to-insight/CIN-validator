{
 "cells": [
  {
   "cell_type": "markdown",
   "id": "61777f04",
   "metadata": {},
   "source": [
    "# Sample output of the functions in the XMLtoCSV class of the cin_validator\n"
   ]
  },
  {
   "cell_type": "markdown",
   "id": "7bbeba10",
   "metadata": {},
   "source": [
    "This file demonstrates how a CIN XML is parsed and converted into DataFrames that match the DfE CSV specification. All tables are stored as attributes of a class.\n",
    "\n",
    "Some tables are subtables of others and use values of the parent table. For example the Reviews table uses CPPID which is generated when the ChildProtectionPlans table is being created. "
   ]
  },
  {
   "cell_type": "code",
   "execution_count": 1,
   "id": "fef1a4e8",
   "metadata": {},
   "outputs": [],
   "source": [
    "from cin_validator.ingress import XMLtoCSV"
   ]
  },
  {
   "cell_type": "markdown",
   "id": "40b3957d",
   "metadata": {},
   "source": [
    "## Get the sample data"
   ]
  },
  {
   "cell_type": "code",
   "execution_count": 2,
   "id": "1c30e4e8",
   "metadata": {},
   "outputs": [],
   "source": [
    "import xml.etree.ElementTree as ET\n",
    "\n",
    "# TODO make file path os-independent\n",
    "fulltree = ET.parse(\"fake_data/CIN_Census_2021.xml\")\n",
    "# fulltree = ET.parse(\"../fake_data/fake_CIN_data.xml\")"
   ]
  },
  {
   "cell_type": "markdown",
   "id": "98e8f4a0",
   "metadata": {},
   "source": [
    "## Parse the data"
   ]
  },
  {
   "cell_type": "code",
   "execution_count": 3,
   "id": "9169693d",
   "metadata": {},
   "outputs": [],
   "source": [
    "message = fulltree.getroot()"
   ]
  },
  {
   "cell_type": "markdown",
   "id": "5473ab96",
   "metadata": {},
   "source": [
    "## Convert the XML to DataFrames"
   ]
  },
  {
   "cell_type": "code",
   "execution_count": 4,
   "id": "999d33a2",
   "metadata": {},
   "outputs": [],
   "source": [
    "conv = XMLtoCSV(message)"
   ]
  },
  {
   "cell_type": "markdown",
   "id": "4aaa02c9",
   "metadata": {},
   "source": [
    "## Header"
   ]
  },
  {
   "cell_type": "code",
   "execution_count": 5,
   "id": "1bda692a",
   "metadata": {},
   "outputs": [
    {
     "name": "stdout",
     "output_type": "stream",
     "text": [
      "  Collection  Year ReferenceDate SourceLevel  LEA     SoftwareCode  \\\n",
      "0        CIN  2023    2023-03-31           L  201  Local Authority   \n",
      "\n",
      "      Release SerialNo             DateTime  \n",
      "0  ver 3.1.21      001  2023-05-23T11:14:05  \n"
     ]
    }
   ],
   "source": [
    "print(conv.Header)"
   ]
  },
  {
   "cell_type": "markdown",
   "id": "6bfa6ade",
   "metadata": {},
   "source": [
    "## ChildIdentifiers"
   ]
  },
  {
   "cell_type": "code",
   "execution_count": 6,
   "id": "d90bf42e",
   "metadata": {},
   "outputs": [
    {
     "name": "stdout",
     "output_type": "stream",
     "text": [
      "     LAchildID            UPN      FormerUPN UPNunknown PersonBirthDate  \\\n",
      "0  DfEX0000001  A123456789123  X98765432123B        UN3      1965-03-27   \n",
      "\n",
      "  ExpectedPersonBirthDate GenderCurrent PersonDeathDate  \n",
      "0              1066-04-13             1      1980-10-08  \n"
     ]
    }
   ],
   "source": [
    "print(conv.ChildIdentifiers)"
   ]
  },
  {
   "cell_type": "markdown",
   "id": "20d0c4aa",
   "metadata": {},
   "source": [
    "## ChildCharacteristics"
   ]
  },
  {
   "cell_type": "code",
   "execution_count": 7,
   "id": "f685f7c0",
   "metadata": {},
   "outputs": [
    {
     "name": "stdout",
     "output_type": "stream",
     "text": [
      "     LAchildID Ethnicity\n",
      "0  DfEX0000001      WBRI\n"
     ]
    }
   ],
   "source": [
    "print(conv.ChildCharacteristics)"
   ]
  },
  {
   "cell_type": "markdown",
   "id": "f2c4e4a2",
   "metadata": {},
   "source": [
    "## Disabilities"
   ]
  },
  {
   "cell_type": "code",
   "execution_count": 8,
   "id": "21a679ec",
   "metadata": {},
   "outputs": [
    {
     "name": "stdout",
     "output_type": "stream",
     "text": [
      "     LAchildID Disability\n",
      "0  DfEX0000001       HAND\n",
      "1  DfEX0000001       HEAR\n"
     ]
    }
   ],
   "source": [
    "print(conv.Disabilities)"
   ]
  },
  {
   "cell_type": "markdown",
   "id": "12f4d26d",
   "metadata": {},
   "source": [
    "## CINdetails"
   ]
  },
  {
   "cell_type": "code",
   "execution_count": 9,
   "id": "31f8f15e",
   "metadata": {},
   "outputs": [
    {
     "name": "stdout",
     "output_type": "stream",
     "text": [
      "     LAchildID CINdetailsID CINreferralDate ReferralSource PrimaryNeedCode  \\\n",
      "0  DfEX0000001            1      1970-10-06             1A              N4   \n",
      "\n",
      "  CINclosureDate ReasonForClosure DateOfInitialCPC ReferralNFA  \n",
      "0     1971-02-27              RC1       1970-12-06           0  \n"
     ]
    }
   ],
   "source": [
    "print(conv.CINdetails)"
   ]
  },
  {
   "cell_type": "markdown",
   "id": "7d6de1c7",
   "metadata": {},
   "source": [
    "## Assessments"
   ]
  },
  {
   "cell_type": "code",
   "execution_count": 10,
   "id": "00b87579",
   "metadata": {},
   "outputs": [
    {
     "name": "stdout",
     "output_type": "stream",
     "text": [
      "     LAchildID CINdetailsID AssessmentActualStartDate  \\\n",
      "0  DfEX0000001            1                1970-06-03   \n",
      "1  DfEX0000001            1                1970-06-03   \n",
      "\n",
      "  AssessmentInternalReviewDate AssessmentAuthorisationDate AssessmentFactors  \n",
      "0                   1970-06-22                  1971-07-18                2A  \n",
      "1                   1970-06-22                  1971-07-18                2B  \n"
     ]
    }
   ],
   "source": [
    "print(conv.Assessments)"
   ]
  },
  {
   "cell_type": "markdown",
   "id": "125a4d09",
   "metadata": {},
   "source": [
    "## CINplanDates"
   ]
  },
  {
   "cell_type": "code",
   "execution_count": 11,
   "id": "5a5d85a8",
   "metadata": {},
   "outputs": [
    {
     "name": "stdout",
     "output_type": "stream",
     "text": [
      "     LAchildID CINdetailsID CINPlanStartDate CINPlanEndDate\n",
      "0  DfEX0000001            1       1971-01-24     1971-01-26\n"
     ]
    }
   ],
   "source": [
    "print(conv.CINplanDates)"
   ]
  },
  {
   "cell_type": "markdown",
   "id": "5e5164ac",
   "metadata": {},
   "source": [
    "## Section47"
   ]
  },
  {
   "cell_type": "code",
   "execution_count": 12,
   "id": "fd4a1f6d",
   "metadata": {},
   "outputs": [
    {
     "name": "stdout",
     "output_type": "stream",
     "text": [
      "     LAchildID CINdetailsID S47ActualStartDate InitialCPCtarget  \\\n",
      "0  DfEX0000001            1         1970-06-02       1970-06-23   \n",
      "\n",
      "  DateOfInitialCPC ICPCnotRequired  \n",
      "0       1970-06-17           false  \n"
     ]
    }
   ],
   "source": [
    "print(conv.Section47)"
   ]
  },
  {
   "cell_type": "markdown",
   "id": "cedfb326",
   "metadata": {},
   "source": [
    "## ChildProtectionPlans"
   ]
  },
  {
   "cell_type": "code",
   "execution_count": 13,
   "id": "b8c9b4a0",
   "metadata": {},
   "outputs": [
    {
     "name": "stdout",
     "output_type": "stream",
     "text": [
      "     LAchildID CINdetailsID CPPID CPPstartDate  CPPendDate  \\\n",
      "0  DfEX0000001            1     1   1970-02-17  1971-03-14   \n",
      "\n",
      "  InitialCategoryOfAbuse LatestCategoryOfAbuse NumberOfPreviousCPP  \n",
      "0                    PHY                   PHY                  10  \n"
     ]
    }
   ],
   "source": [
    "print(conv.ChildProtectionPlans)"
   ]
  },
  {
   "cell_type": "markdown",
   "id": "46438c3a",
   "metadata": {},
   "source": [
    "## Reviews"
   ]
  },
  {
   "cell_type": "code",
   "execution_count": 14,
   "id": "b94c429b",
   "metadata": {},
   "outputs": [
    {
     "name": "stdout",
     "output_type": "stream",
     "text": [
      "     LAchildID CINdetailsID CPPID CPPreviewDate\n",
      "0  DfEX0000001            1     1    1971-02-15\n"
     ]
    }
   ],
   "source": [
    "print(conv.Reviews)"
   ]
  },
  {
   "cell_type": "markdown",
   "id": "07fb4d17",
   "metadata": {},
   "source": [
    "\n",
    "                                                                                            Further questions? Ask Tambe T.\n"
   ]
  }
 ],
 "metadata": {
  "kernelspec": {
   "display_name": "Python 3 (ipykernel)",
   "language": "python",
   "name": "python3"
  },
  "language_info": {
   "codemirror_mode": {
    "name": "ipython",
    "version": 3
   },
   "file_extension": ".py",
   "mimetype": "text/x-python",
   "name": "python",
   "nbconvert_exporter": "python",
   "pygments_lexer": "ipython3",
   "version": "3.9.7"
  }
 },
 "nbformat": 4,
 "nbformat_minor": 5
}
