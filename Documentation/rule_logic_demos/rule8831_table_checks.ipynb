{
 "cells": [
  {
   "cell_type": "code",
   "execution_count": null,
   "id": "c98f9306",
   "metadata": {},
   "outputs": [],
   "source": [
    "Logic and results for rule 8831 where a comparison has to be done between a table and multiple unrelated tables."
   ]
  },
  {
   "cell_type": "code",
   "execution_count": 4,
   "id": "3da3d6d0",
   "metadata": {},
   "outputs": [],
   "source": [
    "import pandas as pd\n",
    "\n",
    "sample_section47 = pd.DataFrame(\n",
    "        [\n",
    "            {\n",
    "                \"LAchildID\": \"child1\",\n",
    "                \"CINdetailsID\": \"cinID2\",\n",
    "            },\n",
    "            {\n",
    "                \"LAchildID\": \"child2\",  # fails for having a module\n",
    "                \"CINdetailsID\": \"cinID2\",\n",
    "                \"S47ActualStartDate\": \"01/01/2000\",\n",
    "            },\n",
    "            {\n",
    "                \"LAchildID\": \"child2\",\n",
    "                \"CINdetailsID\": \"cinID1\",\n",
    "            },\n",
    "            {\n",
    "                \"LAchildID\": \"child3\",\n",
    "                \"CINdetailsID\": \"cinID1\",\n",
    "            },\n",
    "            {\n",
    "                \"LAchildID\": \"child3\",\n",
    "                \"CINdetailsID\": \"cinID2\",\n",
    "            },\n",
    "            {\n",
    "                \"LAchildID\": \"child3\",\n",
    "                \"CINdetailsID\": \"cinID3\",\n",
    "            },\n",
    "            {\n",
    "                \"LAchildID\": \"child3\",\n",
    "                \"CINdetailsID\": \"cinID4\",\n",
    "            },\n",
    "        ]\n",
    "    )\n",
    "sample_cin_details = pd.DataFrame(\n",
    "        [\n",
    "            {\n",
    "                \"LAchildID\": \"child1\", # fail: has AssessmentAuthorisationDate\n",
    "                \"DateOfInitialCPC\": pd.NA,\n",
    "                \"CINdetailsID\": \"cinID1\",\n",
    "                \"ReferralNFA\": \"1\",\n",
    "            },\n",
    "            {\n",
    "                \"LAchildID\": \"child2\", # fail: has S47ActualStartDate\n",
    "                \"DateOfInitialCPC\": pd.NA,\n",
    "                \"CINdetailsID\": \"cinID2\",\n",
    "                \"ReferralNFA\": \"true\",\n",
    "            },\n",
    "            {\n",
    "                \"LAchildID\": \"child3\", # fail: has AssessmentActualStartDate\n",
    "                \"DateOfInitialCPC\": pd.NA,\n",
    "                \"CINdetailsID\": \"cinID3\",\n",
    "                \"ReferralNFA\": \"1\",\n",
    "            },\n",
    "            {\n",
    "                \"LAchildID\": \"child4\", \n",
    "                \"DateOfInitialCPC\": \"28/05/2000\",  # fails for having initial cpc\n",
    "                \"CINdetailsID\": \"cinID4\",\n",
    "                \"ReferralNFA\": \"true\",\n",
    "            },\n",
    "            {\n",
    "                \"LAchildID\": \"child3\",\n",
    "                \"DateOfInitialCPC\": \"26/05/2000\",\n",
    "                \"CINdetailsID\": \"cinID2\",\n",
    "                \"ReferralNFA\": \"false\", # ignore\n",
    "            },\n",
    "            {\n",
    "                \"LAchildID\": \"child3\",\n",
    "                \"DateOfInitialCPC\": \"26/05/2003\",\n",
    "                \"CINdetailsID\": \"cinID8\",\n",
    "                \"ReferralNFA\": \"false\", # ignore\n",
    "            },\n",
    "            {  # 6 pass\n",
    "                \"LAchildID\": \"child3\",\n",
    "                \"DateOfInitialCPC\": \"14/03/2001\",\n",
    "                \"CINdetailsID\": \"cinID4\",\n",
    "                \"ReferralNFA\": \"false\", # ignore\n",
    "            },\n",
    "        ]\n",
    "    )\n",
    "sample_ass = pd.DataFrame(\n",
    "        [\n",
    "            {\n",
    "                \"LAchildID\": \"child1\",  # fails for having a module\n",
    "                \"CINdetailsID\": \"cinID1\",\n",
    "                \"AssessmentAuthorisationDate\": \"01/01/2000\",\n",
    "                \"AssessmentActualStartDate\": pd.NA,\n",
    "            },\n",
    "            {\n",
    "                \"LAchildID\": \"child3\",  # fails for having a module\n",
    "                \"CINdetailsID\": \"cinID3\",\n",
    "                \"AssessmentAuthorisationDate\": \"01/01/2000\",\n",
    "                \"AssessmentActualStartDate\": \"01/01/2000\",\n",
    "            },\n",
    "            {\n",
    "                \"LAchildID\": \"child1\",\n",
    "                \"CINdetailsID\": \"cinID2\",\n",
    "                \"AssessmentAuthorisationDate\": pd.NA,\n",
    "                \"AssessmentActualStartDate\": pd.NA,\n",
    "            },\n",
    "            {\n",
    "                \"LAchildID\": \"child1\",\n",
    "                \"CINdetailsID\": \"cinID3\",\n",
    "                \"AssessmentAuthorisationDate\": pd.NA,\n",
    "                \"AssessmentActualStartDate\": pd.NA,\n",
    "            },\n",
    "            {\n",
    "                \"LAchildID\": \"child1\",\n",
    "                \"CINdetailsID\": \"cinID4\",\n",
    "                \"AssessmentAuthorisationDate\": pd.NA,\n",
    "                \"AssessmentActualStartDate\": pd.NA,\n",
    "            },\n",
    "        ]\n",
    "    )"
   ]
  },
  {
   "cell_type": "code",
   "execution_count": 6,
   "id": "be0b9ab3",
   "metadata": {
    "scrolled": true
   },
   "outputs": [
    {
     "name": "stdout",
     "output_type": "stream",
     "text": [
      "   ROW_ID LAchildID CINdetailsID AssessmentAuthorisationDate  \\\n",
      "0       0    child1       cinID1                  01/01/2000   \n",
      "1       1    child3       cinID3                  01/01/2000   \n",
      "2       2    child1       cinID2                        <NA>   \n",
      "3       3    child1       cinID3                        <NA>   \n",
      "4       4    child1       cinID4                        <NA>   \n",
      "\n",
      "  AssessmentActualStartDate  \n",
      "0                      <NA>  \n",
      "1                01/01/2000  \n",
      "2                      <NA>  \n",
      "3                      <NA>  \n",
      "4                      <NA>  \n",
      "   ROW_ID LAchildID DateOfInitialCPC CINdetailsID ReferralNFA\n",
      "0       0    child1             <NA>       cinID1           1\n",
      "1       1    child2             <NA>       cinID2        true\n",
      "2       2    child3             <NA>       cinID3           1\n",
      "3       3    child4       28/05/2000       cinID4        true\n",
      "4       4    child3       26/05/2000       cinID2       false\n",
      "5       5    child3       26/05/2003       cinID8       false\n",
      "6       6    child3       14/03/2001       cinID4       false\n",
      "   ROW_ID LAchildID CINdetailsID S47ActualStartDate\n",
      "0       0    child1       cinID2                NaN\n",
      "1       1    child2       cinID2         01/01/2000\n",
      "2       2    child2       cinID1                NaN\n",
      "3       3    child3       cinID1                NaN\n",
      "4       4    child3       cinID2                NaN\n",
      "5       5    child3       cinID3                NaN\n",
      "6       6    child3       cinID4                NaN\n"
     ]
    }
   ],
   "source": [
    "df_ass = sample_ass.copy()\n",
    "df_ass.index.name = \"ROW_ID\"\n",
    "df_ass.reset_index(inplace=True)\n",
    "\n",
    "df_47 = sample_section47.copy()\n",
    "df_47.index.name = \"ROW_ID\"\n",
    "df_47.reset_index(inplace=True)\n",
    "\n",
    "df_cin = sample_cin_details.copy()\n",
    "df_cin.index.name = \"ROW_ID\"\n",
    "df_cin.reset_index(inplace=True)\n",
    "\n",
    "print(df_ass)\n",
    "print(df_cin)\n",
    "print(df_47)"
   ]
  },
  {
   "cell_type": "code",
   "execution_count": 9,
   "id": "ede73d77",
   "metadata": {},
   "outputs": [
    {
     "name": "stdout",
     "output_type": "stream",
     "text": [
      "   ROW_ID LAchildID DateOfInitialCPC CINdetailsID ReferralNFA\n",
      "0       0    child1             <NA>       cinID1           1\n",
      "1       1    child2             <NA>       cinID2        true\n",
      "2       2    child3             <NA>       cinID3           1\n",
      "3       3    child4       28/05/2000       cinID4        true\n"
     ]
    }
   ],
   "source": [
    "ReferralNFA = \"ReferralNFA\"\n",
    "trueor1 = [\"true\", \"1\"]\n",
    "df_cin = df_cin[df_cin[ReferralNFA].isin(trueor1)]\n",
    "print(df_cin)"
   ]
  },
  {
   "cell_type": "code",
   "execution_count": 11,
   "id": "2fe67f92",
   "metadata": {},
   "outputs": [
    {
     "name": "stdout",
     "output_type": "stream",
     "text": [
      "           ERROR_ID ROW_ID\n",
      "0  (child2, cinID2)    [1]\n",
      "1  (child4, cinID4)    [3]\n"
     ]
    }
   ],
   "source": [
    "DateOfInitialCPC = \"DateOfInitialCPC\"\n",
    "S47ActualStartDate = \"S47ActualStartDate\"\n",
    "CINdetailsID = \"CINdetailsID\"\n",
    "LAchildID = \"LAchildID\"\n",
    "\n",
    "# Check columns in Section47 table\n",
    "df_cin_47 = df_cin.merge(df_47, on=[\"LAchildID\", \"CINdetailsID\"], how=\"left\", suffixes=[\"_cin\", \"_47\"])\n",
    "# filter out rows that have an S47ActualStartDate or DateOfInitialCPC\n",
    "condition_1 = (df_cin_47[DateOfInitialCPC].notna() | df_cin_47[S47ActualStartDate].notna())\n",
    "df_cin_47 = df_cin_47[condition_1]\n",
    "df_cin_47[\"ERROR_ID\"] = tuple(zip(df_cin_47[LAchildID], df_cin_47[CINdetailsID]))\n",
    "df_47_issues = (\n",
    "    df_47.merge(df_cin_47, left_on=\"ROW_ID\", right_on=\"ROW_ID_47\")\n",
    "    .groupby(\"ERROR_ID\", group_keys=False)[\"ROW_ID\"]\n",
    "    .apply(list)\n",
    "    .reset_index()\n",
    ")\n",
    "cin_issues_47 = (\n",
    "    df_cin.merge(df_cin_47, left_on=\"ROW_ID\", right_on=\"ROW_ID_cin\")\n",
    "    .groupby(\"ERROR_ID\", group_keys=False)[\"ROW_ID\"]\n",
    "    .apply(list)\n",
    "    .reset_index()\n",
    ")\n",
    "print(cin_issues_47)\n"
   ]
  },
  {
   "cell_type": "code",
   "execution_count": 14,
   "id": "5a83eedf",
   "metadata": {},
   "outputs": [
    {
     "name": "stdout",
     "output_type": "stream",
     "text": [
      "           ERROR_ID ROW_ID\n",
      "0  (child1, cinID1)    [0]\n",
      "1  (child3, cinID3)    [2]\n"
     ]
    }
   ],
   "source": [
    "CINdetailsID = \"CINdetailsID\"\n",
    "LAchildID = \"LAchildID\"\n",
    "AssessmentActualStartDate = \"AssessmentActualStartDate\"\n",
    "AssessmentAuthorisationDate = \"AssessmentAuthorisationDate\"\n",
    "\n",
    "# Check columns in Assessments table\n",
    "df_cin_ass = df_cin.merge(\n",
    "    df_ass,\n",
    "    on=[\"LAchildID\", \"CINdetailsID\"],\n",
    "    how=\"left\",\n",
    "    suffixes=[\"_cin\", \"_ass\"], \n",
    ")    \n",
    "# filter out rows that have an AssessmentActualStartDate or AssessmentAuthorisationDate\n",
    "condition_2 = df_cin_ass[AssessmentActualStartDate].notna()\n",
    "condition_3 = df_cin_ass[AssessmentAuthorisationDate].notna()\n",
    "df_cin_ass = df_cin_ass[condition_2 | condition_3]\n",
    "df_cin_ass[\"ERROR_ID\"] = tuple(zip(df_cin_ass[LAchildID], df_cin_ass[CINdetailsID]))\n",
    "df_ass_issues = (\n",
    "    df_ass.merge(df_cin_ass, left_on=\"ROW_ID\", right_on=\"ROW_ID_ass\")\n",
    "    .groupby(\"ERROR_ID\", group_keys=False)[\"ROW_ID\"]\n",
    "    .apply(list)\n",
    "    .reset_index()\n",
    ")    \n",
    "cin_issues_ass = (\n",
    "    df_cin.merge(df_cin_ass, left_on=\"ROW_ID\", right_on=\"ROW_ID_cin\")\n",
    "    .groupby(\"ERROR_ID\", group_keys=False)[\"ROW_ID\"]\n",
    "    .apply(list)\n",
    "    .reset_index()\n",
    ")\n",
    "\n",
    "print(cin_issues_ass)"
   ]
  },
  {
   "cell_type": "code",
   "execution_count": 15,
   "id": "74c56086",
   "metadata": {},
   "outputs": [
    {
     "name": "stdout",
     "output_type": "stream",
     "text": [
      "           ERROR_ID ROW_ID\n",
      "0  (child2, cinID2)    [1]\n",
      "1  (child4, cinID4)    [3]\n",
      "0  (child1, cinID1)    [0]\n",
      "1  (child3, cinID3)    [2]\n"
     ]
    }
   ],
   "source": [
    "df_cin_issues = pd.concat([cin_issues_47, cin_issues_ass])\n",
    "print(df_cin_issues)"
   ]
  },
  {
   "cell_type": "code",
   "execution_count": 16,
   "id": "7d9031ac",
   "metadata": {},
   "outputs": [
    {
     "name": "stdout",
     "output_type": "stream",
     "text": [
      "           ERROR_ID ROW_ID\n",
      "0  (child2, cinID2)    [1]\n",
      "1  (child4, cinID4)    [3]\n",
      "0  (child1, cinID1)    [0]\n",
      "1  (child3, cinID3)    [2]\n"
     ]
    }
   ],
   "source": [
    "df_cin_issues.drop_duplicates(\"ERROR_ID\")\n",
    "print(df_cin_issues)"
   ]
  }
 ],
 "metadata": {
  "kernelspec": {
   "display_name": "Python 3 (ipykernel)",
   "language": "python",
   "name": "python3"
  },
  "language_info": {
   "codemirror_mode": {
    "name": "ipython",
    "version": 3
   },
   "file_extension": ".py",
   "mimetype": "text/x-python",
   "name": "python",
   "nbconvert_exporter": "python",
   "pygments_lexer": "ipython3",
   "version": "3.9.7"
  }
 },
 "nbformat": 4,
 "nbformat_minor": 5
}
